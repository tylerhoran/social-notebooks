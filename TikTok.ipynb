{
 "cells": [
  {
   "cell_type": "code",
   "execution_count": null,
   "id": "46a11ecf-0aed-4ed1-b8b0-9cadcc68eb24",
   "metadata": {},
   "outputs": [],
   "source": [
    "## Tiktok API Docuemntation for TikHub\n",
    "# https://api.tikhub.io/docs"
   ]
  },
  {
   "cell_type": "code",
   "execution_count": null,
   "id": "33de9d78-f067-4fa2-87c6-e24f29b4f3c7",
   "metadata": {},
   "outputs": [],
   "source": [
    "import requests\n",
    "\n",
    "# 查询用户信息/Query user information\n",
    "url = \"https://api.tikhub.io/users/me/\"\n",
    "token = \"YOUR_TOKEN\"\n",
    "\n",
    "# 将token替换为你的token，严格遵守以下格式\n",
    "# Replace token with your token, strictly follow the following format\n",
    "headers = {'Cookie': f'Authorization={token}'}\n",
    "\n",
    "response = requests.request(\"GET\", url, headers=headers)\n",
    "print(response.json())"
   ]
  },
  {
   "cell_type": "code",
   "execution_count": 1,
   "id": "bbf46034-0c71-4268-868b-4be744416304",
   "metadata": {},
   "outputs": [
    {
     "name": "stdout",
     "output_type": "stream",
     "text": [
      "{'detail': {'status': False, 'message': '无法验证Token，请重新登录/Unable to verify Token, please login again'}}\n",
      "{'detail': {'status': False, 'message': '无法验证Token，请重新登录/Unable to verify Token, please login again'}}\n",
      "{'detail': {'status': False, 'message': '无法验证Token，请重新登录/Unable to verify Token, please login again'}}\n"
     ]
    }
   ],
   "source": [
    "import requests\n",
    "\n",
    "class TikHubAPI:\n",
    "\n",
    "    def __init__(self, token: str):\n",
    "        self.token = token\n",
    "        self.headers = {'Cookie': f'Authorization={self.token}'}\n",
    "        self.domain = \"https://api.tikhub.io\"\n",
    "\n",
    "    # 查询账户信息/Query account information\n",
    "    def get_tikhub_self_info(self) -> dict:\n",
    "        url = f\"{self.domain}/users/me/\"\n",
    "        response = requests.request(\"GET\", url, headers=self.headers)\n",
    "        return response.json()\n",
    "\n",
    "    # 解析抖音视频/Parse Douyin video\n",
    "    def parse_douyin_video(self, url: str) -> dict:\n",
    "        url = f\"{self.domain}/douyin/video_data/?douyin_video_url={url}\"\n",
    "        response = requests.request(\"GET\", url, headers=self.headers)\n",
    "        return response.json()\n",
    "\n",
    "    # 解析TikTok视频/Parse TikTok video\n",
    "    def parse_tiktok_video(self, url: str) -> dict:\n",
    "        url = f\"{self.domain}/tiktok/video_data/?tiktok_video_url={url}\"\n",
    "        response = requests.request(\"GET\", url, headers=self.headers)\n",
    "        return response.json()\n",
    "\n",
    "\n",
    "if __name__ == '__main__':\n",
    "    # 创建TikHubAPI实例/Create TikHubAPI instance\n",
    "    token = \"YOUR_TOKEN\"\n",
    "    tikhub = TikHubAPI(token)\n",
    "\n",
    "    # 查询账户信息/Query account information\n",
    "    print(tikhub.get_tikhub_self_info())\n",
    "\n",
    "    # 解析抖音视频/Parse Douyin video\n",
    "    print(tikhub.parse_douyin_video(\"https://www.douyin.com/video/7153585499477757192\"))\n",
    "\n",
    "    # 解析TikTok视频/Parse TikTok video\n",
    "    print(tikhub.parse_tiktok_video(\"https://www.tiktok.com/@evil0ctal/video/7202594778217844014\"))\n",
    "    "
   ]
  }
 ],
 "metadata": {
  "kernelspec": {
   "display_name": "Python 3 (ipykernel)",
   "language": "python",
   "name": "python3"
  },
  "language_info": {
   "codemirror_mode": {
    "name": "ipython",
    "version": 3
   },
   "file_extension": ".py",
   "mimetype": "text/x-python",
   "name": "python",
   "nbconvert_exporter": "python",
   "pygments_lexer": "ipython3",
   "version": "3.12.2"
  }
 },
 "nbformat": 4,
 "nbformat_minor": 5
}
